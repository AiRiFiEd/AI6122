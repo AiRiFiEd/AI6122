{
 "cells": [
  {
   "cell_type": "code",
   "execution_count": 66,
   "id": "6b799520",
   "metadata": {},
   "outputs": [
    {
     "name": "stderr",
     "output_type": "stream",
     "text": [
      "[nltk_data] Downloading package punkt to\n",
      "[nltk_data]     C:\\Users\\Admin\\AppData\\Roaming\\nltk_data...\n",
      "[nltk_data]   Package punkt is already up-to-date!\n",
      "[nltk_data] Downloading package stopwords to\n",
      "[nltk_data]     C:\\Users\\Admin\\AppData\\Roaming\\nltk_data...\n",
      "[nltk_data]   Package stopwords is already up-to-date!\n",
      "[nltk_data] Downloading package averaged_perceptron_tagger to\n",
      "[nltk_data]     C:\\Users\\Admin\\AppData\\Roaming\\nltk_data...\n",
      "[nltk_data]   Package averaged_perceptron_tagger is already up-to-\n",
      "[nltk_data]       date!\n"
     ]
    }
   ],
   "source": [
    "import os\n",
    "directory = os.path.dirname(os.getcwd())\n",
    "import sys\n",
    "sys.path.append(directory)\n",
    "import lxml\n",
    "import datetime\n",
    "import hashlib\n",
    "import pandas as pd\n",
    "import statistics\n",
    "import numpy as np\n",
    "from typing import Dict, List\n",
    "from collections import defaultdict\n",
    "from ipywidgets import interact\n",
    "\n",
    "import nltk\n",
    "from nltk import word_tokenize\n",
    "from nltk.corpus import stopwords\n",
    "from nltk.tokenize.treebank import TreebankWordDetokenizer\n",
    "from nltk.util import ngrams\n",
    "\n",
    "nltk.download('punkt')\n",
    "nltk.download('stopwords')\n",
    "nltk.download('averaged_perceptron_tagger')\n",
    "import string\n",
    "\n",
    "import matplotlib.pyplot as plt\n",
    "%matplotlib inline\n",
    "\n",
    "import src.data as data"
   ]
  },
  {
   "cell_type": "markdown",
   "id": "02404ff1",
   "metadata": {},
   "source": [
    "# Variables"
   ]
  },
  {
   "cell_type": "code",
   "execution_count": 2,
   "id": "0ee9987d",
   "metadata": {},
   "outputs": [],
   "source": [
    "DIRECTORY_DATA = os.path.join(directory, 'data')\n",
    "DIRECTORY_OUTPUT = os.path.join(DIRECTORY_DATA,'01')"
   ]
  },
  {
   "cell_type": "markdown",
   "id": "efcbb823",
   "metadata": {},
   "source": [
    "# Parsing Dataset"
   ]
  },
  {
   "cell_type": "code",
   "execution_count": 70,
   "id": "cdc81a13",
   "metadata": {},
   "outputs": [],
   "source": [
    "dblp = data.DatasetDBLP(directory_output=DIRECTORY_OUTPUT)\n",
    "filepath = os.path.join(DIRECTORY_DATA, 'dblp.xml')\n",
    "dblp.from_file(filepath)"
   ]
  },
  {
   "cell_type": "code",
   "execution_count": 60,
   "id": "e4a0a9c2",
   "metadata": {},
   "outputs": [],
   "source": [
    "inproceedings = defaultdict(lambda: defaultdict(list))"
   ]
  },
  {
   "cell_type": "code",
   "execution_count": 61,
   "id": "1cfeff7f",
   "metadata": {},
   "outputs": [],
   "source": [
    "all_elements = ['inproceedings']\n",
    "for event, element in dblp.data:\n",
    "    if element.tag in all_elements:\n",
    "        conference_name = element.items()[1][1].split('/')[1]\n",
    "        for sub in element:\n",
    "            if sub.tag == 'title':\n",
    "                t = sub.text\n",
    "            if sub.tag == 'year':\n",
    "                d = sub.text\n",
    "        inproceedings[conference_name][d].append(t)"
   ]
  },
  {
   "cell_type": "markdown",
   "id": "a90c4054",
   "metadata": {},
   "source": [
    "# Inproceedings Count By Year"
   ]
  },
  {
   "cell_type": "code",
   "execution_count": 62,
   "id": "43d78212",
   "metadata": {},
   "outputs": [
    {
     "data": {
      "application/vnd.jupyter.widget-view+json": {
       "model_id": "0a21891397b346258cd49938ee52f40b",
       "version_major": 2,
       "version_minor": 0
      },
      "text/plain": [
       "interactive(children=(Dropdown(description='conference_name', options=('3dgis', '3dic', '3dica', '3dim', '3dor…"
      ]
     },
     "metadata": {},
     "output_type": "display_data"
    },
    {
     "data": {
      "text/plain": [
       "<function __main__.plot_inproceedings_count_by_year(conference_name: str)>"
      ]
     },
     "execution_count": 62,
     "metadata": {},
     "output_type": "execute_result"
    }
   ],
   "source": [
    "def plot_inproceedings_count_by_year(conference_name: str):\n",
    "    tmp = []\n",
    "    for k, v in inproceedings[conference_name].items():\n",
    "\n",
    "        tmp.append([k, len(v)])\n",
    "    print(tmp)\n",
    "    df = pd.DataFrame(tmp, columns=['year', 'count'])\n",
    "    df.sort_values('year', inplace=True)\n",
    "    df.plot.bar('year', 'count')\n",
    "\n",
    "interact(plot_inproceedings_count_by_year, conference_name=sorted([conf for conf in list(inproceedings.keys()) if conf]))"
   ]
  },
  {
   "cell_type": "markdown",
   "id": "cdc99612",
   "metadata": {},
   "source": [
    "# Title Length by Year"
   ]
  },
  {
   "cell_type": "code",
   "execution_count": 65,
   "id": "eb172eb0",
   "metadata": {},
   "outputs": [
    {
     "data": {
      "application/vnd.jupyter.widget-view+json": {
       "model_id": "4f7f22e83d7248409387f8e489e4df57",
       "version_major": 2,
       "version_minor": 0
      },
      "text/plain": [
       "interactive(children=(Dropdown(description='conference_name', options=('3dgis', '3dic', '3dica', '3dim', '3dor…"
      ]
     },
     "metadata": {},
     "output_type": "display_data"
    },
    {
     "data": {
      "text/plain": [
       "<function __main__.plot_title_length_by_year(conference_name: str)>"
      ]
     },
     "execution_count": 65,
     "metadata": {},
     "output_type": "execute_result"
    }
   ],
   "source": [
    "def plot_title_length_by_year(conference_name: str):\n",
    "    tmp = []\n",
    "    y = []\n",
    "    for k, v in inproceedings[conference_name].items():\n",
    "        lengths = []\n",
    "        for t in v:\n",
    "            if not t is None:\n",
    "                lengths.append(len(t.split(' ')))\n",
    "\n",
    "        tmp.append( {'label': k,'whislo':min(lengths), 'whishi':max(lengths), 'med':statistics.median(lengths), 'q1':np.percentile(lengths, 25), 'q3':np.percentile(lengths, 75)})\n",
    "        y.append(k)\n",
    "    tmp = sorted(tmp, key=lambda x: x['label'])\n",
    "    y = sorted(y)\n",
    "\n",
    "    fig, ax = plt.subplots(1,1)\n",
    "    ax.bxp(tmp, showfliers=False)\n",
    "    ax.set_xticks(ticks=range(1, len(y)+1),labels=y, rotation=90)\n",
    "\n",
    "interact(plot_title_length_by_year, conference_name=sorted([conf for conf in list(inproceedings.keys()) if conf]))    "
   ]
  },
  {
   "cell_type": "markdown",
   "id": "d3e47a2a",
   "metadata": {},
   "source": [
    "# Top 10s"
   ]
  },
  {
   "cell_type": "code",
   "execution_count": 69,
   "id": "653d43e2",
   "metadata": {},
   "outputs": [
    {
     "data": {
      "application/vnd.jupyter.widget-view+json": {
       "model_id": "392bce0e90e94b60941041b8dba3ea69",
       "version_major": 2,
       "version_minor": 0
      },
      "text/plain": [
       "interactive(children=(Dropdown(description='conference_name', options=('3dgis', '3dic', '3dica', '3dim', '3dor…"
      ]
     },
     "metadata": {},
     "output_type": "display_data"
    },
    {
     "data": {
      "text/plain": [
       "<function __main__.generate_top_10_unigrams(conference_name: str)>"
      ]
     },
     "execution_count": 69,
     "metadata": {},
     "output_type": "execute_result"
    }
   ],
   "source": [
    "def generate_top_10_unigrams(conference_name: str):\n",
    "    years = sorted([int(y) for y in list(inproceedings[conference_name].keys()) if y])\n",
    "    def get_titles(year: int):\n",
    "        sw = set(stopwords.words(\"english\") + list(string.punctuation))\n",
    "        counts = defaultdict(lambda:defaultdict(int))\n",
    "        titles = inproceedings[conference_name][str(year)]\n",
    "        for t in titles:\n",
    "            if t:\n",
    "                tokens = [word for word in word_tokenize(t) if not word in sw]\n",
    "                for tok in tokens:\n",
    "                    counts[year][tok] += 1        \n",
    "        topten = dict()\n",
    "        for k, v in counts.items():\n",
    "            _ = [[k,v] for k,v in v.items()]\n",
    "            _ = sorted(_,key=lambda x: x[1],reverse=True)\n",
    "            top = _[:10]\n",
    "            topten[k] = top\n",
    "        return topten\n",
    "    \n",
    "    interact(get_titles, year=years)    \n",
    "    \n",
    "interact(generate_top_10_unigrams, conference_name=sorted([conf for conf in list(inproceedings.keys()) if conf])) "
   ]
  },
  {
   "cell_type": "code",
   "execution_count": null,
   "id": "edb05992",
   "metadata": {},
   "outputs": [],
   "source": []
  },
  {
   "cell_type": "code",
   "execution_count": null,
   "id": "c75999ac",
   "metadata": {},
   "outputs": [],
   "source": []
  },
  {
   "cell_type": "code",
   "execution_count": null,
   "id": "8403b37a",
   "metadata": {},
   "outputs": [],
   "source": []
  },
  {
   "cell_type": "code",
   "execution_count": null,
   "id": "eb5fe29b",
   "metadata": {},
   "outputs": [],
   "source": []
  },
  {
   "cell_type": "code",
   "execution_count": null,
   "id": "0e9340b1",
   "metadata": {},
   "outputs": [],
   "source": []
  },
  {
   "cell_type": "code",
   "execution_count": null,
   "id": "f174af94",
   "metadata": {},
   "outputs": [],
   "source": []
  },
  {
   "cell_type": "code",
   "execution_count": null,
   "id": "81d36cad",
   "metadata": {},
   "outputs": [],
   "source": []
  },
  {
   "cell_type": "code",
   "execution_count": 47,
   "id": "caa7231a",
   "metadata": {},
   "outputs": [],
   "source": [
    "def get_years(conference_name: str):\n",
    "    years = sorted([int(y) for y in list(inproceedings[conference_name].keys()) if y])\n",
    "    def get_titles(year: int):\n",
    "        return inproceedings[conference_name][str(year)]\n",
    "    interact(get_titles, year=years)\n",
    "    \n",
    "\n"
   ]
  },
  {
   "cell_type": "code",
   "execution_count": 48,
   "id": "dc6db2c9",
   "metadata": {
    "scrolled": true
   },
   "outputs": [
    {
     "data": {
      "application/vnd.jupyter.widget-view+json": {
       "model_id": "1b8331bc111946faa8a1234cfcd955e5",
       "version_major": 2,
       "version_minor": 0
      },
      "text/plain": [
       "interactive(children=(Dropdown(description='conference_name', options=('1970', '2006', '3dgis', '3dic', '3dica…"
      ]
     },
     "metadata": {},
     "output_type": "display_data"
    },
    {
     "data": {
      "text/plain": [
       "<function __main__.get_years(conference_name: List)>"
      ]
     },
     "execution_count": 48,
     "metadata": {},
     "output_type": "execute_result"
    }
   ],
   "source": [
    "interact(get_years, conference_name=sorted([conf for conf in list(inproceedings.keys()) if conf]))"
   ]
  },
  {
   "cell_type": "code",
   "execution_count": null,
   "id": "51b0907f",
   "metadata": {},
   "outputs": [],
   "source": []
  },
  {
   "cell_type": "code",
   "execution_count": null,
   "id": "6d0d9e5f",
   "metadata": {},
   "outputs": [],
   "source": []
  }
 ],
 "metadata": {
  "kernelspec": {
   "display_name": "Python 3 (ipykernel)",
   "language": "python",
   "name": "python3"
  },
  "language_info": {
   "codemirror_mode": {
    "name": "ipython",
    "version": 3
   },
   "file_extension": ".py",
   "mimetype": "text/x-python",
   "name": "python",
   "nbconvert_exporter": "python",
   "pygments_lexer": "ipython3",
   "version": "3.10.13"
  }
 },
 "nbformat": 4,
 "nbformat_minor": 5
}
